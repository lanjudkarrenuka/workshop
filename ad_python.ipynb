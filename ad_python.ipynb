{
  "nbformat": 4,
  "nbformat_minor": 0,
  "metadata": {
    "colab": {
      "provenance": [],
      "authorship_tag": "ABX9TyPlExml+Hy5qRdzTdyHr8Wz",
      "include_colab_link": true
    },
    "kernelspec": {
      "name": "python3",
      "display_name": "Python 3"
    },
    "language_info": {
      "name": "python"
    }
  },
  "cells": [
    {
      "cell_type": "markdown",
      "metadata": {
        "id": "view-in-github",
        "colab_type": "text"
      },
      "source": [
        "<a href=\"https://colab.research.google.com/github/lanjudkarrenuka/workshop/blob/main/ad_python.ipynb\" target=\"_parent\"><img src=\"https://colab.research.google.com/assets/colab-badge.svg\" alt=\"Open In Colab\"/></a>"
      ]
    },
    {
      "cell_type": "code",
      "execution_count": 1,
      "metadata": {
        "id": "ue8OvZAViPGR",
        "colab": {
          "base_uri": "https://localhost:8080/"
        },
        "outputId": "b768ad7d-17d9-45e8-c08f-714c24140240"
      },
      "outputs": [
        {
          "output_type": "stream",
          "name": "stdout",
          "text": [
            "wellcome to github\n"
          ]
        }
      ],
      "source": [
        "print(\"wellcome to github\")"
      ]
    },
    {
      "cell_type": "code",
      "source": [],
      "metadata": {
        "id": "naJWUk3ZA43_"
      },
      "execution_count": null,
      "outputs": []
    }
  ]
}